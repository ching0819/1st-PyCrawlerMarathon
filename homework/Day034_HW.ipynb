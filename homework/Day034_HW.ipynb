{
 "cells": [
  {
   "cell_type": "markdown",
   "metadata": {
    "colab_type": "text",
    "id": "I8CoX4R7VoCd"
   },
   "source": [
    "# 反爬：代理伺服器/IP\n",
    "\n",
    "* 了解「IP 黑/白名單」的反爬蟲機制\n",
    "* 「IP 黑/白名單」反爬蟲的因應策略"
   ]
  },
  {
   "cell_type": "markdown",
   "metadata": {
    "colab_type": "text",
    "id": "n-3DZ_r5VoCe"
   },
   "source": [
    "## 作業目標\n",
    "\n",
    "* 目前程式中的 proxy_ips 是手動輸入的，請根據 https://free-proxy-list.net/ 寫一個可自動化抓取可用 Proxy 的 proxy_ips。\n",
    "\n",
    "\n"
   ]
  },
  {
   "cell_type": "code",
   "execution_count": 1,
   "metadata": {},
   "outputs": [],
   "source": [
    "import random\n",
    "import requests\n",
    "from bs4 import BeautifulSoup"
   ]
  },
  {
   "cell_type": "code",
   "execution_count": 2,
   "metadata": {
    "colab": {},
    "colab_type": "code",
    "id": "iny-9heBVoCf"
   },
   "outputs": [],
   "source": [
    "proxy_ips = []\n",
    "\n",
    "'''\n",
    "Your Code\n",
    "'''\n",
    "res = requests.get('https://free-proxy-list.net/')\n",
    "soup = BeautifulSoup(res.text, 'lxml')"
   ]
  },
  {
   "cell_type": "code",
   "execution_count": 3,
   "metadata": {},
   "outputs": [],
   "source": [
    "\n",
    "proxylisttable = soup.find('table', id='proxylisttable')\n",
    "tbody = proxylisttable.find('tbody')\n",
    "for tr in tbody.find_all('tr'):\n",
    "    proxy_ips.append(tr.find_all('td')[0].text + ':' + tr.find_all('td')[1].text)"
   ]
  },
  {
   "cell_type": "code",
   "execution_count": 4,
   "metadata": {},
   "outputs": [
    {
     "name": "stdout",
     "output_type": "stream",
     "text": [
      "5.63.165.178:40561\n",
      "138.97.12.150:37198\n",
      "203.223.41.34:38374\n",
      "177.189.244.11:36068\n",
      "119.82.253.24:44060\n"
     ]
    }
   ],
   "source": [
    "for ip in proxy_ips[:5]:\n",
    "    print(ip)"
   ]
  },
  {
   "cell_type": "code",
   "execution_count": 5,
   "metadata": {
    "colab": {},
    "colab_type": "code",
    "id": "75dIsHjiVoCi"
   },
   "outputs": [
    {
     "name": "stdout",
     "output_type": "stream",
     "text": [
      "Use 185.157.79.252:4045\n",
      "Fail: 'NoneType' object has no attribute 'text'\n",
      "Use 207.154.231.217:3128\n",
      "Fail: HTTPConnectionPool(host='207.154.231.217', port=3128): Read timed out. (read timeout=10)\n",
      "Use 109.248.53.209:4045\n",
      "Fail: 'NoneType' object has no attribute 'text'\n",
      "Use 45.131.212.155:80\n",
      "Fail: 'NoneType' object has no attribute 'text'\n",
      "Use 45.235.87.94:53781\n",
      "Fail: HTTPConnectionPool(host='45.235.87.94', port=53781): Read timed out. (read timeout=10)\n",
      "Use 187.141.164.242:31120\n",
      "Fail: HTTPConnectionPool(host='187.141.164.242', port=31120): Max retries exceeded with url: http://ip.filefab.com/index.php (Caused by ConnectTimeoutError(<urllib3.connection.HTTPConnection object at 0x00000272C438F7B8>, 'Connection to 187.141.164.242 timed out. (connect timeout=10)'))\n",
      "Use 194.26.180.142:80\n",
      "Fail: HTTPConnectionPool(host='194.26.180.142', port=80): Max retries exceeded with url: http://ip.filefab.com/index.php (Caused by ProxyError('Cannot connect to proxy.', RemoteDisconnected('Remote end closed connection without response')))\n",
      "Use 185.36.188.91:4045\n",
      "Fail: 'NoneType' object has no attribute 'text'\n",
      "Use 172.80.253.50:3128\n",
      "Your IP address: 172.80.253.50\n",
      "Use 176.9.75.42:8080\n",
      "Fail: HTTPConnectionPool(host='176.9.75.42', port=8080): Read timed out. (read timeout=10)\n"
     ]
    }
   ],
   "source": [
    "for i in range(10):\n",
    "    ip = random.choice(proxy_ips)\n",
    "    print('Use', ip)\n",
    "    try:\n",
    "        resp = requests.get('http://ip.filefab.com/index.php',\n",
    "                        proxies={'http': ip, 'https': ip}, timeout=10)\n",
    "        soup = BeautifulSoup(resp.text, 'html5lib')\n",
    "        print(soup.find('h1', id='ipd').text.strip())\n",
    "    except Exception as e:\n",
    "        print('Fail:', e)"
   ]
  }
 ],
 "metadata": {
  "colab": {
   "name": "homework.ipynb",
   "provenance": []
  },
  "kernelspec": {
   "display_name": "Python 3",
   "language": "python",
   "name": "python3"
  },
  "language_info": {
   "codemirror_mode": {
    "name": "ipython",
    "version": 3
   },
   "file_extension": ".py",
   "mimetype": "text/x-python",
   "name": "python",
   "nbconvert_exporter": "python",
   "pygments_lexer": "ipython3",
   "version": "3.7.3"
  }
 },
 "nbformat": 4,
 "nbformat_minor": 1
}
